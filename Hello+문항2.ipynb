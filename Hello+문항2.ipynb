{
  "nbformat": 4,
  "nbformat_minor": 0,
  "metadata": {
    "colab": {
      "provenance": [],
      "toc_visible": true,
      "authorship_tag": "ABX9TyNOTxENhpdFCYM6CXUbXtXj",
      "include_colab_link": true
    },
    "kernelspec": {
      "name": "python3",
      "display_name": "Python 3"
    },
    "language_info": {
      "name": "python"
    }
  },
  "cells": [
    {
      "cell_type": "markdown",
      "metadata": {
        "id": "view-in-github",
        "colab_type": "text"
      },
      "source": [
        "<a href=\"https://colab.research.google.com/github/YunseongKo/aipython/blob/main/Hello%2B%EB%AC%B8%ED%95%AD2.ipynb\" target=\"_parent\"><img src=\"https://colab.research.google.com/assets/colab-badge.svg\" alt=\"Open In Colab\"/></a>"
      ]
    },
    {
      "cell_type": "markdown",
      "source": [
        "Hello world 출력"
      ],
      "metadata": {
        "id": "SXRJ4z_VLcUU"
      }
    },
    {
      "cell_type": "code",
      "execution_count": 5,
      "metadata": {
        "colab": {
          "base_uri": "https://localhost:8080/"
        },
        "id": "BoLTKOIOLJva",
        "outputId": "218a539b-799c-4fd5-e203-fd969bbd0d5d"
      },
      "outputs": [
        {
          "output_type": "stream",
          "name": "stdout",
          "text": [
            "Hello world\n"
          ]
        }
      ],
      "source": [
        "# 출력하기\n",
        "print(\"Hello world\")"
      ]
    },
    {
      "cell_type": "code",
      "source": [
        "A, B = map(float, input().split())\n",
        "\n",
        "if A > B:\n",
        "    print(f\"{A} 이(가) {B} 보다 크다\")\n",
        "elif A < B:\n",
        "    print(f\"{A} 이(가) {B} 보다 작다\")\n",
        "else:\n",
        "    print(f\"{A} 와(과) {B} 는 같다\")"
      ],
      "metadata": {
        "colab": {
          "base_uri": "https://localhost:8080/"
        },
        "id": "1c589IDNRAPM",
        "outputId": "5c5ad0fb-a68e-4bbb-fe17-eda9986c83af"
      },
      "execution_count": 19,
      "outputs": [
        {
          "output_type": "stream",
          "name": "stdout",
          "text": [
            "3.1237412 3.12731384\n",
            "3.1237412 이(가) 3.12731384 보다 작다\n"
          ]
        }
      ]
    },
    {
      "source": [
        "A, B = map(float, input().split())\n",
        "\n",
        "if A > B:\n",
        "    print(float(A), \"이(가)\", float(B), \"보다 크다\")\n",
        "elif A < B:\n",
        "    print(float(A), \"이(가)\", float(B), \"보다 작다\")\n",
        "else:\n",
        "    print(float(A), \"와(과)\", float(B), \"는 같다\")"
      ],
      "cell_type": "code",
      "metadata": {
        "colab": {
          "base_uri": "https://localhost:8080/"
        },
        "id": "1JSLjSctO30s",
        "outputId": "bf6db494-bbd1-4fc9-a2dc-bc77d4b2905a"
      },
      "execution_count": 20,
      "outputs": [
        {
          "output_type": "stream",
          "name": "stdout",
          "text": [
            "3.141592 3.141593\n",
            "3.141592 이(가) 3.141593 보다 작다\n"
          ]
        }
      ]
    },
    {
      "source": [
        "A, B = map(int, input().split(','))\n",
        "\n",
        "if A > B:\n",
        "    print(\">\")\n",
        "elif A < B:\n",
        "    print(\"<\")\n",
        "else:\n",
        "    print(\"==\")"
      ],
      "cell_type": "code",
      "metadata": {
        "id": "E9q5vImCSEoM"
      },
      "execution_count": null,
      "outputs": []
    }
  ]
}