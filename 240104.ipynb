{
  "nbformat": 4,
  "nbformat_minor": 0,
  "metadata": {
    "colab": {
      "provenance": [],
      "authorship_tag": "ABX9TyPLaeJ7e+XwFLjC+ej0uTGW",
      "include_colab_link": true
    },
    "kernelspec": {
      "name": "python3",
      "display_name": "Python 3"
    },
    "language_info": {
      "name": "python"
    }
  },
  "cells": [
    {
      "cell_type": "markdown",
      "metadata": {
        "id": "view-in-github",
        "colab_type": "text"
      },
      "source": [
        "<a href=\"https://colab.research.google.com/github/YunseongKo/aipython/blob/main/240104.ipynb\" target=\"_parent\"><img src=\"https://colab.research.google.com/assets/colab-badge.svg\" alt=\"Open In Colab\"/></a>"
      ]
    },
    {
      "cell_type": "code",
      "source": [
        "scores = []\n",
        "while True:\n",
        "    score = input(\"학생의 점수를 입력하세요.\")\n",
        "    if score.isdigit():\n",
        "        scores.append(int(score))\n",
        "    else:\n",
        "        break\n",
        "\n",
        "total = sum(scores)\n",
        "count = len(scores)\n",
        "average = total / count if count > 0 else 0\n",
        "\n",
        "\n",
        "print(f\"합계 : {total}\")\n",
        "print(f\"인원수 : {count}\")\n",
        "print(f\"평균 : {average:.2f}\")"
      ],
      "metadata": {
        "colab": {
          "base_uri": "https://localhost:8080/"
        },
        "id": "phhDzLk0iEqb",
        "outputId": "61c25a03-b333-4301-db1c-7c7b42043b7f"
      },
      "execution_count": 28,
      "outputs": [
        {
          "output_type": "stream",
          "name": "stdout",
          "text": [
            "학생의 점수를 입력하세요.90\n",
            "학생의 점수를 입력하세요.70\n",
            "학생의 점수를 입력하세요.30\n",
            "학생의 점수를 입력하세요.x\n",
            "합계 : 190\n",
            "인원수 : 3\n",
            "평균 : 63.33\n"
          ]
        }
      ]
    },
    {
      "cell_type": "code",
      "source": [],
      "metadata": {
        "id": "3Rk17WrwisA-"
      },
      "execution_count": null,
      "outputs": []
    }
  ]
}