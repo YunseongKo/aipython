{
  "nbformat": 4,
  "nbformat_minor": 0,
  "metadata": {
    "colab": {
      "provenance": [],
      "authorship_tag": "ABX9TyNLHTM2L0Jg9O8bfwsk3tUx",
      "include_colab_link": true
    },
    "kernelspec": {
      "name": "python3",
      "display_name": "Python 3"
    },
    "language_info": {
      "name": "python"
    }
  },
  "cells": [
    {
      "cell_type": "markdown",
      "metadata": {
        "id": "view-in-github",
        "colab_type": "text"
      },
      "source": [
        "<a href=\"https://colab.research.google.com/github/YunseongKo/aipython/blob/main/240102ipynb.ipynb\" target=\"_parent\"><img src=\"https://colab.research.google.com/assets/colab-badge.svg\" alt=\"Open In Colab\"/></a>"
      ]
    },
    {
      "cell_type": "code",
      "execution_count": null,
      "metadata": {
        "id": "wVTz2uYEB2iv"
      },
      "outputs": [],
      "source": [
        "# 2.6 : 하나의 변수를 활용하는 코드\n",
        "Lab = 105\n",
        "print('우리가 수업하는 실습실:')\n",
        "print(Lab)"
      ]
    },
    {
      "cell_type": "code",
      "source": [
        "# 2.7 : 하나의 변수를 활용하는 코드\n",
        "Lab = 105\n",
        "print('우리가 수업하는 실습실:', Lab)"
      ],
      "metadata": {
        "id": "jfOpSRgyCBVi"
      },
      "execution_count": null,
      "outputs": []
    },
    {
      "cell_type": "code",
      "source": [
        "# 2.8\n",
        "# 변수 두 개를 생성하고 값을 할당\n",
        "my_id = 20150001\n",
        "garde = 1\n",
        "\n",
        "# 두 개의 변수에 할당된 값을 출력\n",
        "print('나의 학번: ')\n",
        "print(my_id)\n",
        "print('학년: ')\n",
        "print(grade)"
      ],
      "metadata": {
        "id": "tFqe1vIaCBTb"
      },
      "execution_count": null,
      "outputs": []
    },
    {
      "cell_type": "code",
      "source": [
        "# 2.9\n",
        "dollars = 2.75\n",
        "print('I have', dollars, 'in my account.')\n",
        "\n",
        "# 변수에 새로운 값을 할당하면 이 줄 밑으로는 새롭게 할당된 변수로 정의된다\n",
        "dollars = 99.95\n",
        "print('But now I have', dollars, 'in my account!')"
      ],
      "metadata": {
        "id": "ZpevRsaNCBRF"
      },
      "execution_count": null,
      "outputs": []
    },
    {
      "cell_type": "code",
      "source": [
        "# 2.10\n",
        "department = \"국어국문학과\"\n",
        "name = \"홍길동\"\n",
        "print(department, name)\n",
        "\n",
        "# Index를 이용한 출력방식\n",
        "a=[department, name]\n",
        "print(a[0], a[1])"
      ],
      "metadata": {
        "colab": {
          "base_uri": "https://localhost:8080/"
        },
        "id": "njW3ATM1CBOe",
        "outputId": "ac186ba6-72aa-4ee8-944a-cf02f6d588cf"
      },
      "execution_count": 1,
      "outputs": [
        {
          "output_type": "stream",
          "name": "stdout",
          "text": [
            "국어국문학과 홍길동\n",
            "국어국문학과 홍길동\n"
          ]
        }
      ]
    },
    {
      "cell_type": "code",
      "source": [
        "# 2.11\n",
        "department = input(\"학과명: \")\n",
        "name = input(\"성명: \")\n",
        "print(\"안녕하세요\", department, name)\n",
        "print(\"안녕하세요 \"+ department + \" \" name)"
      ],
      "metadata": {
        "colab": {
          "base_uri": "https://localhost:8080/"
        },
        "id": "QLWvVolkCBL4",
        "outputId": "32f0b492-3e73-4b3c-af06-e09129d1fc07"
      },
      "execution_count": 2,
      "outputs": [
        {
          "output_type": "stream",
          "name": "stdout",
          "text": [
            "학과명: 의학과\n",
            "성명: 고윤성\n",
            "안녕하세요 의학과고윤성\n"
          ]
        }
      ]
    },
    {
      "cell_type": "code",
      "source": [
        "# 2.12\n",
        "name = input(\"당신의 이름은 무엇입니까? \")\n",
        "age = int(input(\"나이는 어떻게 되시나요? \"))\n",
        "attending_time = float(input(\"통학시간은 얼마나 걸립니까? \"))\n",
        "\n",
        "print(\"입력 정보는 다음과 같습니다.\")\n",
        "print(\"이름:\", name)\n",
        "print(\"나이:\", age)\n",
        "print(\"통학시간:\", attending_time)\n",
        "\n",
        "# attending time을 소수 아래 두번째 자리까지 나타내려면 어떻게 해야할까?\n",
        "print(\"통학시간: {:.2f}\".format(attending_time))\n",
        "print(f\"통학시간: {attending_time:.2f}\")\n",
        "print(\"통학시간: %.2f\" % attending_time)"
      ],
      "metadata": {
        "colab": {
          "base_uri": "https://localhost:8080/"
        },
        "id": "jufk5S1lCBJj",
        "outputId": "a39c6987-0911-4f12-ef23-92c14950075b"
      },
      "execution_count": 3,
      "outputs": [
        {
          "name": "stdout",
          "output_type": "stream",
          "text": [
            "당신의 이름은 무엇입니까? 1\n",
            "나이는 어떻게 되시나요? 1\n"
          ]
        }
      ]
    },
    {
      "cell_type": "code",
      "source": [
        "# 2.13 : 미리 실수로 정의\n",
        "salary = 2500.0\n",
        "bonus = 1200.0\n",
        "pay = salary + bonus\n",
        "print('총 급여:', pay)"
      ],
      "metadata": {
        "colab": {
          "base_uri": "https://localhost:8080/"
        },
        "id": "N36_5ZZwE7SV",
        "outputId": "cd974430-4f2e-44cd-bf87-fc117f1e8ae3"
      },
      "execution_count": 4,
      "outputs": [
        {
          "output_type": "stream",
          "name": "stdout",
          "text": [
            "총 급여: 3700.0\n"
          ]
        }
      ]
    },
    {
      "cell_type": "code",
      "source": [
        "# 2.14\n",
        "original_price = float(input(\"제품의 원가를 입력해주세요: \"))\n",
        "discout = original_price * 0.2\n",
        "sale_price = original_price - discout\n",
        "print(\"할인가: \", sale_price)"
      ],
      "metadata": {
        "id": "nMqBHZ0rGHeO"
      },
      "execution_count": null,
      "outputs": []
    },
    {
      "cell_type": "code",
      "source": [
        "# 2.15\n",
        "t1 = float(input(\"첫 과목 점수를 입력해주세요: \"))\n",
        "t2 = float(input(\"두번쨰 과목 점수를 입력해주세요: \"))\n",
        "t3 = float(input(\"세번째 과목 점수를 입력해주세요: \"))\n",
        "avg = (t1 + t2 + t3) / 3.0\n",
        "print(\"3 과목 평균 점수\", avg)"
      ],
      "metadata": {
        "id": "DpmCHXD9F3zb"
      },
      "execution_count": null,
      "outputs": []
    },
    {
      "cell_type": "code",
      "source": [
        "#2.16\n",
        "total_seconds = float(input('시간 값을 초 단위로 입력해주세요: '))\n",
        "hours = total_seconds // 3600\n",
        "minutes = (total_seconds // 60) % 60\n",
        "seconds = total_seconds % 60\n",
        "print(\"시 분 초는 다음과 같습니다\")\n",
        "print(\"시: \", hours)\n",
        "print(\"분: \", minutes)\n",
        "print(\"초: \", seconds)\n",
        "\n",
        "# 띄어쓰기가 귀찮으면\n",
        "print(\"시: \"+\"hours\")\n",
        "print(\"분: \"+\"minutes\")\n",
        "print(\"초: \"+\"seconds\")"
      ],
      "metadata": {
        "id": "CadsItWhGkRC"
      },
      "execution_count": null,
      "outputs": []
    },
    {
      "cell_type": "code",
      "source": [
        "# 2.17\n",
        "future_value = float(input(\"목표 금액을 입력해주세요; \"))\n",
        "rate = float(input(\"연간 이율을 입력해주세요: \"))\n",
        "years = int(input(\"저축 기간을 연 단위로 입력해주세요: \"))\n",
        "present_value = future_value / (1.0 + rate)**years\n",
        "print(\"적립 금액: \", present_value)"
      ],
      "metadata": {
        "id": "gYELOZmDGnk-"
      },
      "execution_count": null,
      "outputs": []
    },
    {
      "cell_type": "code",
      "source": [
        "# 2.18 : separator, sep\n",
        "# 간격을 조정할 수 있다\n",
        "print('a','b','c')\n",
        "print('a','b','c',sep='')\n",
        "print('a','b','c',sep='***')"
      ],
      "metadata": {
        "id": "wJtE0Fx4Gne_"
      },
      "execution_count": null,
      "outputs": []
    },
    {
      "cell_type": "code",
      "source": [
        "# 2.19 : end, 자동 줄바꾸는 끝 부분을 임의적으로 조정할 수 있다\n",
        "print('a')\n",
        "print('b')\n",
        "print('c',end='')\n",
        "print('d',end='')\n",
        "print('e',end='***')\n",
        "print('f')"
      ],
      "metadata": {
        "id": "FmUj7bBhGnWH"
      },
      "execution_count": null,
      "outputs": []
    }
  ]
}